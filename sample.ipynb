{
 "cells": [
  {
   "metadata": {},
   "cell_type": "markdown",
   "source": "",
   "id": "8a77807f92f26ee"
  },
  {
   "metadata": {},
   "cell_type": "code",
   "source": "pip install pandas folium",
   "id": "fbc121e30a2defb3",
   "outputs": [],
   "execution_count": null
  },
  {
   "metadata": {
    "ExecuteTime": {
     "end_time": "2024-10-25T08:42:12.175737Z",
     "start_time": "2024-10-25T08:42:11.930102Z"
    }
   },
   "cell_type": "code",
   "source": [
    "import pandas as pd\n",
    "import folium\n",
    "from folium.plugins import MarkerCluster\n",
    "\n",
    "file_path = '/Users/usernamemateo/Downloads/RIJA _ Iniciativas de Participacion Ciu dadana en el Poder Judicial - Mapeo.xlsx'\n",
    "\n",
    "mapeo_casos_data = pd.read_excel(file_path, sheet_name='Mapeo de Casos')\n",
    "\n",
    "# Manually specified coordinates for countries, including additional ones\n",
    "country_coords = {\n",
    "    # Existing and new countries combined\n",
    "    'Argentina': (-38.4161, -63.6167),\n",
    "    'Costa Rica': (9.7489, -83.7534),\n",
    "    'Ecuador': (-1.8312, -78.1834),\n",
    "    'Guatemala': (15.7835, -90.2308),\n",
    "    'Paraguay': (-23.4425, -58.4438),\n",
    "    'Peru': (-9.1900, -75.0152),\n",
    "    'Colombia': (4.5709, -74.2973),\n",
    "    'México': (23.6345, -102.5528),\n",
    "    'Panamá': (8.5380, -80.7821),\n",
    "    'Chile': (-35.6751, -71.5430),\n",
    "    'Brasil': (-14.2350, -51.9253),\n",
    "    'Honduras': (15.2000, -86.2419),\n",
    "    'El Salvador': (13.7942, -88.8965),\n",
    "    'Nicaragua': (12.8654, -85.2072),\n",
    "    'República Dominicana': (18.7357, -70.1627),\n",
    "    'Venezuela': (6.4238, -66.5897),\n",
    "    'Uruguay': (-32.5228, -55.7658),\n",
    "    'Georgia': (42.3154, 43.3569),\n",
    "    'Estados Unidos': (37.0902, -95.7129),\n",
    "    'Liberia': (6.4281, -9.4295),\n",
    "    'Nigeria': (9.0820, 8.6753),\n",
    "    'España': (40.4637, -3.7492),\n",
    "    'Japón': (36.2048, 138.2529),\n",
    "    'Tanzania': (-6.3690, 34.8888),\n",
    "    'Albania': (41.1533, 20.1683),\n",
    "    'Francia': (46.2276, 2.2137),\n",
    "    'Bangladesh': (23.6850, 90.3563),\n",
    "    'Jamaica': (18.1096, -77.2975),\n",
    "    'Kosovo': (42.6026, 20.9029),\n",
    "    'Ghana': (7.9465, -1.0232),\n",
    "    'Martinique': (14.6415, -61.0242),\n",
    "    'Eslovaquia': (48.6690, 19.6990),\n",
    "    'Sudáfrica': (-30.5595, 22.9375),\n",
    "    'Tailandia': (15.8700, 100.9925),\n",
    "    'Puerto Rico': (18.2208, -66.5901),\n",
    "    'Escocia': (56.4907, -4.2026),\n",
    "    'Corea del Sur': (35.9078, 127.7669),\n",
    "    'Australia': (-25.2744, 133.7751),\n",
    "    'Kenya': (-0.0236, 37.9062),\n",
    "    'Uganda': (1.3733, 32.2903),\n",
    "    'Bolivia': (-16.2902, -63.5887),\n",
    "    'Reino Unido': (55.3781, -3.4360)\n",
    "}\n",
    "\n",
    "# Apply coordinates\n",
    "mapeo_casos_data['Latitude'] = mapeo_casos_data['País'].apply(lambda x: country_coords.get(x, (None, None))[0])\n",
    "mapeo_casos_data['Longitude'] = mapeo_casos_data['País'].apply(lambda x: country_coords.get(x, (None, None))[1])\n",
    "\n",
    "# Initialize Folium map\n",
    "map = folium.Map(location=[20, 0], zoom_start=2, tiles='cartodbpositron')\n",
    "\n",
    "# Define colors for the regions\n",
    "region_colors = {\n",
    "    'América Latina': 'blue',\n",
    "    'Europa': 'green',\n",
    "    'África': 'red',\n",
    "    'Asia': 'purple',\n",
    "    'Norteamérica': 'orange',\n",
    "    'Oceanía': 'darkblue'\n",
    "}\n",
    "\n",
    "# Add MarkerCluster to manage the markers\n",
    "marker_cluster = MarkerCluster().add_to(map)\n",
    "\n",
    "# Add markers to the map\n",
    "for idx, row in mapeo_casos_data.iterrows():\n",
    "    if pd.notna(row['Latitude']) and pd.notna(row['Longitude']):\n",
    "        folium.CircleMarker(\n",
    "            location=(row['Latitude'], row['Longitude']),\n",
    "            radius=5,\n",
    "            popup=f\"{row['País']}: {row['Iniciativa']}\",\n",
    "            color=region_colors.get(row['Región'], 'gray'),  # Default color if region is not in stated on the dictionary\n",
    "            fill=True,\n",
    "            fill_color=region_colors.get(row['Región'], 'gray'),\n",
    "            fill_opacity=0.7\n",
    "        ).add_to(marker_cluster)\n",
    "\n",
    "# Save to HTML\n",
    "map.save('interactive_map.html')\n"
   ],
   "id": "540442c178d0d33d",
   "outputs": [],
   "execution_count": 3
  },
  {
   "metadata": {
    "ExecuteTime": {
     "end_time": "2024-10-26T09:42:24.485438Z",
     "start_time": "2024-10-26T09:42:21.885763Z"
    }
   },
   "cell_type": "code",
   "source": [
    "# Import necessary libraries\n",
    "import pandas as pd\n",
    "import folium\n",
    "from folium.plugins import MarkerCluster\n",
    "from IPython.display import display, FileLink\n",
    "\n",
    "# Load data including coordinates (replace 'path_to_file' with actual path)\n",
    "file_path = 'Mapeo_de_Casos_With_Coordinates.xlsx'\n",
    "mapeo_de_casos = pd.read_excel(file_path)\n",
    "\n",
    "# Function to generate map with chosen description type and filters\n",
    "def generate_map(description_type, year_filter=None, country_filter=None, drivers_filter=None, save_path=\"map.html\"):\n",
    "    map_center = [4.0, -74.0]  # Centered around Latin America\n",
    "    m = folium.Map(location=map_center, zoom_start=4, tiles='CartoDB positron')\n",
    "    marker_cluster = MarkerCluster().add_to(m)\n",
    "\n",
    "    # Apply filters\n",
    "    filtered_data = mapeo_de_casos.copy()\n",
    "    if year_filter:\n",
    "        filtered_data = filtered_data[filtered_data['Año de Inicio'].isin(year_filter)]\n",
    "    if country_filter:\n",
    "        filtered_data = filtered_data[filtered_data['País'].isin(country_filter)]\n",
    "    if drivers_filter:\n",
    "        filtered_data = filtered_data[filtered_data['Impulsores'].isin(drivers_filter)]\n",
    "\n",
    "    # Add markers based on filtered data\n",
    "    for _, row in filtered_data.iterrows():\n",
    "        if pd.notna(row['Latitude']) and pd.notna(row['Longitude']):\n",
    "            coordinates = [row['Latitude'], row['Longitude']]\n",
    "            \n",
    "            # Select description type\n",
    "            description = row['Description'] if description_type == \"Full\" else row['Description (Homogenized)']\n",
    "            \n",
    "            # Create pop-up content\n",
    "            popup_content = f\"\"\"\n",
    "            <b>Initiative:</b> {row['Nombre']}<br>\n",
    "            <b>Country:</b> {row['País']}<br>\n",
    "            <b>Year:</b> {row['Año de Inicio']}<br>\n",
    "            <b>Drivers:</b> {row['Impulsores']}<br>\n",
    "            <b>Description:</b> {description}<br>\n",
    "            <b><a href='{row['Links / Recursos']}' target='_blank'>Technical Sheet</a></b>\n",
    "            \"\"\"\n",
    "            \n",
    "            folium.Marker(\n",
    "                location=coordinates,\n",
    "                popup=folium.Popup(popup_content, max_width=300),\n",
    "                icon=folium.Icon(color='blue', icon='info-sign')\n",
    "            ).add_to(marker_cluster)\n",
    "    \n",
    "    # Save map to specified path\n",
    "    m.save(save_path)\n",
    "    display(FileLink(save_path))\n",
    "\n",
    "# Define different filter combinations\n",
    "year_filters = [[2021], [2020, 2021]]  # Example years\n",
    "country_filters = [[\"Argentina\"], [\"Argentina\", \"Brazil\"]]  # Example countries\n",
    "drivers_filters = [[\"Supreme Court\"], [\"Government\", \"Supreme Court\"]]  # Example drivers\n",
    "\n",
    "# Generating maps for each filter combination\n",
    "description_types = [\"Full\", \"Homogenized\"]\n",
    "filter_combinations = [\n",
    "    # Single Filter\n",
    "    {\"year_filter\": year_filters[0], \"country_filter\": None, \"drivers_filter\": None},\n",
    "    {\"year_filter\": None, \"country_filter\": country_filters[0], \"drivers_filter\": None},\n",
    "    {\"year_filter\": None, \"country_filter\": None, \"drivers_filter\": drivers_filters[0]},\n",
    "\n",
    "    # Dual Filters\n",
    "    {\"year_filter\": year_filters[0], \"country_filter\": country_filters[0], \"drivers_filter\": None},\n",
    "    {\"year_filter\": year_filters[0], \"country_filter\": None, \"drivers_filter\": drivers_filters[0]},\n",
    "    {\"year_filter\": None, \"country_filter\": country_filters[0], \"drivers_filter\": drivers_filters[0]},\n",
    "\n",
    "    # All Filters Combined\n",
    "    {\"year_filter\": year_filters[1], \"country_filter\": country_filters[1], \"drivers_filter\": drivers_filters[1]},\n",
    "]\n",
    "\n",
    "# Iterate over each combination and generate maps\n",
    "for i, filters in enumerate(filter_combinations):\n",
    "    for description_type in description_types:\n",
    "        save_path = f\"map_{description_type}_combo_{i+1}.html\"\n",
    "        generate_map(description_type=description_type,\n",
    "                     year_filter=filters['year_filter'],\n",
    "                     country_filter=filters['country_filter'],\n",
    "                     drivers_filter=filters['drivers_filter'],\n",
    "                     save_path=save_path)\n"
   ],
   "id": "a4d7d2721a0d47e8",
   "outputs": [
    {
     "data": {
      "text/plain": [
       "/Users/usernamemateo/Downloads/RIJA/map_Full_combo_1.html"
      ],
      "text/html": [
       "<a href='map_Full_combo_1.html' target='_blank'>map_Full_combo_1.html</a><br>"
      ]
     },
     "metadata": {},
     "output_type": "display_data"
    },
    {
     "data": {
      "text/plain": [
       "/Users/usernamemateo/Downloads/RIJA/map_Homogenized_combo_1.html"
      ],
      "text/html": [
       "<a href='map_Homogenized_combo_1.html' target='_blank'>map_Homogenized_combo_1.html</a><br>"
      ]
     },
     "metadata": {},
     "output_type": "display_data"
    },
    {
     "data": {
      "text/plain": [
       "/Users/usernamemateo/Downloads/RIJA/map_Full_combo_2.html"
      ],
      "text/html": [
       "<a href='map_Full_combo_2.html' target='_blank'>map_Full_combo_2.html</a><br>"
      ]
     },
     "metadata": {},
     "output_type": "display_data"
    },
    {
     "data": {
      "text/plain": [
       "/Users/usernamemateo/Downloads/RIJA/map_Homogenized_combo_2.html"
      ],
      "text/html": [
       "<a href='map_Homogenized_combo_2.html' target='_blank'>map_Homogenized_combo_2.html</a><br>"
      ]
     },
     "metadata": {},
     "output_type": "display_data"
    },
    {
     "data": {
      "text/plain": [
       "/Users/usernamemateo/Downloads/RIJA/map_Full_combo_3.html"
      ],
      "text/html": [
       "<a href='map_Full_combo_3.html' target='_blank'>map_Full_combo_3.html</a><br>"
      ]
     },
     "metadata": {},
     "output_type": "display_data"
    },
    {
     "data": {
      "text/plain": [
       "/Users/usernamemateo/Downloads/RIJA/map_Homogenized_combo_3.html"
      ],
      "text/html": [
       "<a href='map_Homogenized_combo_3.html' target='_blank'>map_Homogenized_combo_3.html</a><br>"
      ]
     },
     "metadata": {},
     "output_type": "display_data"
    },
    {
     "data": {
      "text/plain": [
       "/Users/usernamemateo/Downloads/RIJA/map_Full_combo_4.html"
      ],
      "text/html": [
       "<a href='map_Full_combo_4.html' target='_blank'>map_Full_combo_4.html</a><br>"
      ]
     },
     "metadata": {},
     "output_type": "display_data"
    },
    {
     "data": {
      "text/plain": [
       "/Users/usernamemateo/Downloads/RIJA/map_Homogenized_combo_4.html"
      ],
      "text/html": [
       "<a href='map_Homogenized_combo_4.html' target='_blank'>map_Homogenized_combo_4.html</a><br>"
      ]
     },
     "metadata": {},
     "output_type": "display_data"
    },
    {
     "data": {
      "text/plain": [
       "/Users/usernamemateo/Downloads/RIJA/map_Full_combo_5.html"
      ],
      "text/html": [
       "<a href='map_Full_combo_5.html' target='_blank'>map_Full_combo_5.html</a><br>"
      ]
     },
     "metadata": {},
     "output_type": "display_data"
    },
    {
     "data": {
      "text/plain": [
       "/Users/usernamemateo/Downloads/RIJA/map_Homogenized_combo_5.html"
      ],
      "text/html": [
       "<a href='map_Homogenized_combo_5.html' target='_blank'>map_Homogenized_combo_5.html</a><br>"
      ]
     },
     "metadata": {},
     "output_type": "display_data"
    },
    {
     "data": {
      "text/plain": [
       "/Users/usernamemateo/Downloads/RIJA/map_Full_combo_6.html"
      ],
      "text/html": [
       "<a href='map_Full_combo_6.html' target='_blank'>map_Full_combo_6.html</a><br>"
      ]
     },
     "metadata": {},
     "output_type": "display_data"
    },
    {
     "data": {
      "text/plain": [
       "/Users/usernamemateo/Downloads/RIJA/map_Homogenized_combo_6.html"
      ],
      "text/html": [
       "<a href='map_Homogenized_combo_6.html' target='_blank'>map_Homogenized_combo_6.html</a><br>"
      ]
     },
     "metadata": {},
     "output_type": "display_data"
    },
    {
     "data": {
      "text/plain": [
       "/Users/usernamemateo/Downloads/RIJA/map_Full_combo_7.html"
      ],
      "text/html": [
       "<a href='map_Full_combo_7.html' target='_blank'>map_Full_combo_7.html</a><br>"
      ]
     },
     "metadata": {},
     "output_type": "display_data"
    },
    {
     "data": {
      "text/plain": [
       "/Users/usernamemateo/Downloads/RIJA/map_Homogenized_combo_7.html"
      ],
      "text/html": [
       "<a href='map_Homogenized_combo_7.html' target='_blank'>map_Homogenized_combo_7.html</a><br>"
      ]
     },
     "metadata": {},
     "output_type": "display_data"
    }
   ],
   "execution_count": 1
  },
  {
   "metadata": {
    "ExecuteTime": {
     "end_time": "2024-10-26T09:45:35.848267Z",
     "start_time": "2024-10-26T09:45:35.743677Z"
    }
   },
   "cell_type": "code",
   "source": [
    "# Import necessary libraries\n",
    "import pandas as pd\n",
    "import folium\n",
    "from folium.plugins import MarkerCluster\n",
    "from IPython.display import display\n",
    "import ipywidgets as widgets\n",
    "\n",
    "# Load data including coordinates (replace 'path_to_file' with actual path)\n",
    "file_path = 'Mapeo_de_Casos_With_Coordinates.xlsx'\n",
    "mapeo_de_casos = pd.read_excel(file_path)\n",
    "\n",
    "# Function to generate map with chosen description type and filters\n",
    "def create_interactive_map(description_type, year_filter=None, country_filter=None, drivers_filter=None):\n",
    "    map_center = [4.0, -74.0]  # Centered around Latin America\n",
    "    m = folium.Map(location=map_center, zoom_start=4, tiles='CartoDB positron')\n",
    "    marker_cluster = MarkerCluster().add_to(m)\n",
    "\n",
    "    # Apply filters based on user selections\n",
    "    filtered_data = mapeo_de_casos.copy()\n",
    "    if year_filter:\n",
    "        filtered_data = filtered_data[filtered_data['Año de Inicio'].isin(year_filter)]\n",
    "    if country_filter:\n",
    "        filtered_data = filtered_data[filtered_data['País'].isin(country_filter)]\n",
    "    if drivers_filter:\n",
    "        filtered_data = filtered_data[filtered_data['Impulsores'].isin(drivers_filter)]\n",
    "\n",
    "    # Add markers for each initiative with specified description type\n",
    "    for _, row in filtered_data.iterrows():\n",
    "        if pd.notna(row['Latitude']) and pd.notna(row['Longitude']):\n",
    "            coordinates = [row['Latitude'], row['Longitude']]\n",
    "            # Choose description type\n",
    "            description = row['Description'] if description_type == \"Full\" else row['Description (Homogenized)']\n",
    "            \n",
    "            # Pop-up content\n",
    "            popup_content = f\"\"\"\n",
    "            <b>Initiative:</b> {row['Nombre']}<br>\n",
    "            <b>Country:</b> {row['País']}<br>\n",
    "            <b>Year:</b> {row['Año de Inicio']}<br>\n",
    "            <b>Drivers:</b> {row['Impulsores']}<br>\n",
    "            <b>Description:</b> {description}<br>\n",
    "            <b><a href='{row['Links / Recursos']}' target='_blank'>Technical Sheet</a></b>\n",
    "            \"\"\"\n",
    "            \n",
    "            folium.Marker(\n",
    "                location=coordinates,\n",
    "                popup=folium.Popup(popup_content, max_width=300),\n",
    "                icon=folium.Icon(color='blue', icon='info-sign')\n",
    "            ).add_to(marker_cluster)\n",
    "    \n",
    "    return m\n",
    "\n",
    "# Define interactive widgets for filter selection\n",
    "years = sorted(mapeo_de_casos['Año de Inicio'].dropna().unique())\n",
    "countries = sorted(mapeo_de_casos['País'].dropna().unique())\n",
    "drivers = sorted(mapeo_de_casos['Impulsores'].dropna().unique())\n",
    "\n",
    "year_filter_widget = widgets.SelectMultiple(options=years, description=\"Year\")\n",
    "country_filter_widget = widgets.SelectMultiple(options=countries, description=\"Country\")\n",
    "drivers_filter_widget = widgets.SelectMultiple(options=drivers, description=\"Drivers\")\n",
    "\n",
    "# Interactive function to update map based on widget selections\n",
    "def update_map(description_type, year_filter, country_filter, drivers_filter):\n",
    "    # Convert selections to lists\n",
    "    year_filter = list(year_filter) if year_filter else None\n",
    "    country_filter = list(country_filter) if country_filter else None\n",
    "    drivers_filter = list(drivers_filter) if drivers_filter else None\n",
    "    \n",
    "    # Generate and display map\n",
    "    map_display = create_interactive_map(description_type, year_filter, country_filter, drivers_filter)\n",
    "    display(map_display)\n",
    "\n",
    "# Tabs for Full and Homogenized map views\n",
    "tab_namer = widgets.ToggleButtons(\n",
    "    options=['Full Description', 'Homogenized Description'],\n",
    "    description=\"Select Map Type:\",\n",
    ")\n",
    "\n",
    "# Function to render map based on selected tab and filters\n",
    "def render_map(tab_namer, year_filter, country_filter, drivers_filter):\n",
    "    description_type = \"Full\" if tab_namer == 'Full Description' else \"Homogenized\"\n",
    "    update_map(description_type, year_filter, country_filter, drivers_filter)\n",
    "\n",
    "# Display the tabs, filters, and interactive map generation in the notebook\n",
    "display(\n",
    "    widgets.VBox([\n",
    "        tab_namer,\n",
    "        year_filter_widget,\n",
    "        country_filter_widget,\n",
    "        drivers_filter_widget,\n",
    "        widgets.interactive(render_map, \n",
    "                            tab_namer=tab_namer, \n",
    "                            year_filter=year_filter_widget, \n",
    "                            country_filter=country_filter_widget, \n",
    "                            drivers_filter=drivers_filter_widget)\n",
    "    ])\n",
    ")\n"
   ],
   "id": "5d34ae0a57af1e4d",
   "outputs": [
    {
     "data": {
      "text/plain": [
       "VBox(children=(ToggleButtons(description='Select Map Type:', options=('Full Description', 'Homogenized Descrip…"
      ],
      "application/vnd.jupyter.widget-view+json": {
       "version_major": 2,
       "version_minor": 0,
       "model_id": "dd757640efcb463dbc6fbc00dde7cc6d"
      }
     },
     "metadata": {},
     "output_type": "display_data"
    }
   ],
   "execution_count": 2
  },
  {
   "metadata": {
    "ExecuteTime": {
     "end_time": "2024-10-26T09:51:52.696811Z",
     "start_time": "2024-10-26T09:51:52.520621Z"
    }
   },
   "cell_type": "code",
   "source": [
    "# Import necessary libraries\n",
    "import pandas as pd\n",
    "import folium\n",
    "from folium.plugins import MarkerCluster\n",
    "from IPython.display import display\n",
    "import ipywidgets as widgets\n",
    "\n",
    "# Load data including coordinates (replace 'path_to_file' with actual path)\n",
    "file_path = 'Mapeo_de_Casos_With_Coordinates.xlsx'\n",
    "mapeo_de_casos = pd.read_excel(file_path)\n",
    "\n",
    "# Function to create map with specified filters and description type\n",
    "def create_map_with_filters(description_type, year_filter=None, country_filter=None, drivers_filter=None):\n",
    "    map_center = [4.0, -74.0]  # Centered around Latin America\n",
    "    m = folium.Map(location=map_center, zoom_start=4, tiles='CartoDB positron')\n",
    "    marker_cluster = MarkerCluster().add_to(m)\n",
    "\n",
    "    # Filter data\n",
    "    filtered_data = mapeo_de_casos.copy()\n",
    "    if year_filter:\n",
    "        filtered_data = filtered_data[filtered_data['Año de Inicio'].isin(year_filter)]\n",
    "    if country_filter:\n",
    "        filtered_data = filtered_data[filtered_data['País'].isin(country_filter)]\n",
    "    if drivers_filter:\n",
    "        filtered_data = filtered_data[filtered_data['Impulsores'].isin(drivers_filter)]\n",
    "\n",
    "    # Add markers with filtered data\n",
    "    for _, row in filtered_data.iterrows():\n",
    "        if pd.notna(row['Latitude']) and pd.notna(row['Longitude']):\n",
    "            coordinates = [row['Latitude'], row['Longitude']]\n",
    "            description = row['Description'] if description_type == \"Full\" else row['Description (Homogenized)']\n",
    "            popup_content = f\"\"\"\n",
    "            <b>Initiative:</b> {row['Nombre']}<br>\n",
    "            <b>Country:</b> {row['País']}<br>\n",
    "            <b>Year:</b> {row['Año de Inicio']}<br>\n",
    "            <b>Drivers:</b> {row['Impulsores']}<br>\n",
    "            <b>Description:</b> {description}<br>\n",
    "            <b><a href='{row['Links / Recursos']}' target='_blank'>Technical Sheet</a></b>\n",
    "            \"\"\"\n",
    "            folium.Marker(\n",
    "                location=coordinates,\n",
    "                popup=folium.Popup(popup_content, max_width=300),\n",
    "                icon=folium.Icon(color='blue', icon='info-sign')\n",
    "            ).add_to(marker_cluster)\n",
    "    \n",
    "    return m\n",
    "\n",
    "# Widgets for filters\n",
    "years = sorted(mapeo_de_casos['Año de Inicio'].dropna().unique())\n",
    "countries = sorted(mapeo_de_casos['País'].dropna().unique())\n",
    "drivers = sorted(mapeo_de_casos['Impulsores'].dropna().unique())\n",
    "\n",
    "# Filter widgets for Full Description Map\n",
    "year_filter_full = widgets.SelectMultiple(options=years, description=\"Year\")\n",
    "country_filter_full = widgets.SelectMultiple(options=countries, description=\"Country\")\n",
    "drivers_filter_full = widgets.SelectMultiple(options=drivers, description=\"Drivers\")\n",
    "\n",
    "# Filter widgets for Homogenized Description Map\n",
    "year_filter_homogenized = widgets.SelectMultiple(options=years, description=\"Year\")\n",
    "country_filter_homogenized = widgets.SelectMultiple(options=countries, description=\"Country\")\n",
    "drivers_filter_homogenized = widgets.SelectMultiple(options=drivers, description=\"Drivers\")\n",
    "\n",
    "# Functions to update each map\n",
    "def update_full_map(year_filter, country_filter, drivers_filter):\n",
    "    # Convert selections to lists\n",
    "    year_filter = list(year_filter) if year_filter else None\n",
    "    country_filter = list(country_filter) if country_filter else None\n",
    "    drivers_filter = list(drivers_filter) if drivers_filter else None\n",
    "    \n",
    "    # Generate map with full descriptions\n",
    "    map_full = create_map_with_filters(\"Full\", year_filter, country_filter, drivers_filter)\n",
    "    display(map_full)\n",
    "\n",
    "def update_homogenized_map(year_filter, country_filter, drivers_filter):\n",
    "    # Convert selections to lists\n",
    "    year_filter = list(year_filter) if year_filter else None\n",
    "    country_filter = list(country_filter) if country_filter else None\n",
    "    drivers_filter = list(drivers_filter) if drivers_filter else None\n",
    "    \n",
    "    # Generate map with homogenized descriptions\n",
    "    map_homogenized = create_map_with_filters(\"Homogenized\", year_filter, country_filter, drivers_filter)\n",
    "    display(map_homogenized)\n",
    "\n",
    "# Display both maps side-by-side\n",
    "display(widgets.HTML(\"<h2>Full Description Map</h2>\"))\n",
    "display(\n",
    "    widgets.VBox([\n",
    "        year_filter_full, \n",
    "        country_filter_full, \n",
    "        drivers_filter_full, \n",
    "        widgets.interactive(update_full_map, \n",
    "                            year_filter=year_filter_full, \n",
    "                            country_filter=country_filter_full, \n",
    "                            drivers_filter=drivers_filter_full)\n",
    "    ])\n",
    ")\n",
    "\n",
    "display(widgets.HTML(\"<h2>Homogenized Description Map</h2>\"))\n",
    "display(\n",
    "    widgets.VBox([\n",
    "        year_filter_homogenized, \n",
    "        country_filter_homogenized, \n",
    "        drivers_filter_homogenized, \n",
    "        widgets.interactive(update_homogenized_map, \n",
    "                            year_filter=year_filter_homogenized, \n",
    "                            country_filter=country_filter_homogenized, \n",
    "                            drivers_filter=drivers_filter_homogenized)\n",
    "    ])\n",
    ")\n"
   ],
   "id": "f8b00b4ca2f2e035",
   "outputs": [
    {
     "data": {
      "text/plain": [
       "HTML(value='<h2>Full Description Map</h2>')"
      ],
      "application/vnd.jupyter.widget-view+json": {
       "version_major": 2,
       "version_minor": 0,
       "model_id": "ddeb8572dec945638037d3609e76c205"
      }
     },
     "metadata": {},
     "output_type": "display_data"
    },
    {
     "data": {
      "text/plain": [
       "VBox(children=(SelectMultiple(description='Year', options=(1947.0, 1996.0, 1999.0, 2001.0, 2003.0, 2004.0, 200…"
      ],
      "application/vnd.jupyter.widget-view+json": {
       "version_major": 2,
       "version_minor": 0,
       "model_id": "58508c1bc43d426184f50a47665fb1e6"
      }
     },
     "metadata": {},
     "output_type": "display_data"
    },
    {
     "data": {
      "text/plain": [
       "HTML(value='<h2>Homogenized Description Map</h2>')"
      ],
      "application/vnd.jupyter.widget-view+json": {
       "version_major": 2,
       "version_minor": 0,
       "model_id": "83ec6b810ee74e20b1e7cbfcca58e51f"
      }
     },
     "metadata": {},
     "output_type": "display_data"
    },
    {
     "data": {
      "text/plain": [
       "VBox(children=(SelectMultiple(description='Year', options=(1947.0, 1996.0, 1999.0, 2001.0, 2003.0, 2004.0, 200…"
      ],
      "application/vnd.jupyter.widget-view+json": {
       "version_major": 2,
       "version_minor": 0,
       "model_id": "c047877c149a46c9aeac853834862b5f"
      }
     },
     "metadata": {},
     "output_type": "display_data"
    }
   ],
   "execution_count": 4
  },
  {
   "metadata": {},
   "cell_type": "code",
   "outputs": [],
   "execution_count": null,
   "source": "",
   "id": "31f629417dc0e46c"
  }
 ],
 "metadata": {
  "kernelspec": {
   "display_name": "Python 3",
   "language": "python",
   "name": "python3"
  },
  "language_info": {
   "codemirror_mode": {
    "name": "ipython",
    "version": 2
   },
   "file_extension": ".py",
   "mimetype": "text/x-python",
   "name": "python",
   "nbconvert_exporter": "python",
   "pygments_lexer": "ipython2",
   "version": "2.7.6"
  }
 },
 "nbformat": 4,
 "nbformat_minor": 5
}
